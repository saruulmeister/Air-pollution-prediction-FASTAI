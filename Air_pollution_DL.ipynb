{
 "cells": [
  {
   "cell_type": "markdown",
   "metadata": {
    "id": "5JwOazANZzum"
   },
   "source": [
    "# Prediciting Air Pollution in Ulaanbaatar using Fast.AI"
   ]
  },
  {
   "cell_type": "markdown",
   "metadata": {
    "id": "UOU7ftp7chU8"
   },
   "source": [
    "### Installing and importing libraries"
   ]
  },
  {
   "cell_type": "code",
   "execution_count": null,
   "metadata": {
    "colab": {
     "base_uri": "https://localhost:8080/"
    },
    "id": "D66WbCwkZ5Xl",
    "outputId": "f91df29f-196b-45b9-c3b7-c1f327134471"
   },
   "outputs": [
    {
     "name": "stdout",
     "output_type": "stream",
     "text": [
      "\u001b[K     |████████████████████████████████| 194kB 6.5MB/s \n",
      "\u001b[K     |████████████████████████████████| 61kB 4.6MB/s \n",
      "\u001b[K     |████████████████████████████████| 12.8MB 218kB/s \n",
      "\u001b[K     |████████████████████████████████| 776.8MB 23kB/s \n",
      "\u001b[31mERROR: torchtext 0.9.1 has requirement torch==1.8.1, but you'll have torch 1.7.1 which is incompatible.\u001b[0m\n",
      "\u001b[?25h"
     ]
    }
   ],
   "source": [
    "!pip install -Uqq fastai --upgrade\n",
    "!pip install -Uqq fastcore --upgrade\n",
    "!pip install -Uqq kaggle --upgrade"
   ]
  },
  {
   "cell_type": "code",
   "execution_count": null,
   "metadata": {
    "colab": {
     "base_uri": "https://localhost:8080/"
    },
    "id": "j4OAzRO6aAF-",
    "outputId": "e7fbcedf-3c91-45d4-eaa2-58df49666e89"
   },
   "outputs": [
    {
     "name": "stdout",
     "output_type": "stream",
     "text": [
      "Fast.ai version: 2.3.0\n",
      "Fastcore version: 1.3.19\n"
     ]
    }
   ],
   "source": [
    "import fastai\n",
    "import fastcore\n",
    "import datetime as dt\n",
    "print('Fast.ai version:', fastai.__version__)\n",
    "print('Fastcore version:', fastcore.__version__)"
   ]
  },
  {
   "cell_type": "code",
   "execution_count": null,
   "metadata": {
    "id": "3YySVkzFbtFX"
   },
   "outputs": [],
   "source": [
    "from fastai.tabular.all import *"
   ]
  },
  {
   "cell_type": "code",
   "execution_count": null,
   "metadata": {
    "colab": {
     "base_uri": "https://localhost:8080/"
    },
    "id": "sZxkEZg4bu6l",
    "outputId": "5d59a8cf-d058-4031-b729-96caf9c8ff18"
   },
   "outputs": [
    {
     "name": "stdout",
     "output_type": "stream",
     "text": [
      "Fri Apr 23 08:55:30 2021       \n",
      "+-----------------------------------------------------------------------------+\n",
      "| NVIDIA-SMI 465.19.01    Driver Version: 460.32.03    CUDA Version: 11.2     |\n",
      "|-------------------------------+----------------------+----------------------+\n",
      "| GPU  Name        Persistence-M| Bus-Id        Disp.A | Volatile Uncorr. ECC |\n",
      "| Fan  Temp  Perf  Pwr:Usage/Cap|         Memory-Usage | GPU-Util  Compute M. |\n",
      "|                               |                      |               MIG M. |\n",
      "|===============================+======================+======================|\n",
      "|   0  Tesla P4            Off  | 00000000:00:04.0 Off |                    0 |\n",
      "| N/A   37C    P8     7W /  75W |      2MiB /  7611MiB |      0%      Default |\n",
      "|                               |                      |                  N/A |\n",
      "+-------------------------------+----------------------+----------------------+\n",
      "                                                                               \n",
      "+-----------------------------------------------------------------------------+\n",
      "| Processes:                                                                  |\n",
      "|  GPU   GI   CI        PID   Type   Process name                  GPU Memory |\n",
      "|        ID   ID                                                   Usage      |\n",
      "|=============================================================================|\n",
      "|  No running processes found                                                 |\n",
      "+-----------------------------------------------------------------------------+\n"
     ]
    }
   ],
   "source": [
    "!nvidia-smi"
   ]
  },
  {
   "cell_type": "markdown",
   "metadata": {
    "id": "vAP26i-gcmcO"
   },
   "source": [
    "### Loading Data"
   ]
  },
  {
   "cell_type": "code",
   "execution_count": null,
   "metadata": {
    "colab": {
     "base_uri": "https://localhost:8080/"
    },
    "id": "KxntPNNWeywX",
    "outputId": "485ce2d1-5fc7-423a-ec99-88ea405d207e"
   },
   "outputs": [
    {
     "data": {
      "text/plain": [
       "True"
      ]
     },
     "execution_count": 25,
     "metadata": {
      "tags": []
     },
     "output_type": "execute_result"
    }
   ],
   "source": [
    "path = Path('/content/')\n",
    "path.is_absolute()"
   ]
  },
  {
   "cell_type": "code",
   "execution_count": null,
   "metadata": {
    "id": "yhae1LjUfnIW"
   },
   "outputs": [],
   "source": [
    "Path.BASE_PATH = path"
   ]
  },
  {
   "cell_type": "code",
   "execution_count": null,
   "metadata": {
    "colab": {
     "base_uri": "https://localhost:8080/"
    },
    "id": "VJjOGm5pfquV",
    "outputId": "faaa901b-a285-447b-f755-0dd4f8307e5c"
   },
   "outputs": [
    {
     "name": "stdout",
     "output_type": "stream",
     "text": [
      "pm_test.csv  pm_train.csv  \u001b[0m\u001b[01;34msample_data\u001b[0m/  sample_submission.csv  weather.csv\n"
     ]
    }
   ],
   "source": [
    "ls"
   ]
  },
  {
   "cell_type": "code",
   "execution_count": null,
   "metadata": {
    "id": "10TaLce-ga1g"
   },
   "outputs": [],
   "source": [
    "train = pd.read_csv(path/'pm_train.csv', low_memory= False)\n",
    "test = pd.read_csv(path/'pm_test.csv', low_memory = False)\n",
    "weather = pd.read_csv(path/'weather.csv', low_memory = False)"
   ]
  },
  {
   "cell_type": "markdown",
   "metadata": {
    "id": "IKbimOmivpK_"
   },
   "source": [
    "### Feature Engineering and Cleaning"
   ]
  },
  {
   "cell_type": "code",
   "execution_count": null,
   "metadata": {
    "colab": {
     "base_uri": "https://localhost:8080/",
     "height": 204
    },
    "id": "pUp1Tja8h4Cr",
    "outputId": "ebfc81c5-3ca1-434b-e9cb-aa887a99a5f7"
   },
   "outputs": [
    {
     "data": {
      "text/html": [
       "<div>\n",
       "<style scoped>\n",
       "    .dataframe tbody tr th:only-of-type {\n",
       "        vertical-align: middle;\n",
       "    }\n",
       "\n",
       "    .dataframe tbody tr th {\n",
       "        vertical-align: top;\n",
       "    }\n",
       "\n",
       "    .dataframe thead th {\n",
       "        text-align: right;\n",
       "    }\n",
       "</style>\n",
       "<table border=\"1\" class=\"dataframe\">\n",
       "  <thead>\n",
       "    <tr style=\"text-align: right;\">\n",
       "      <th></th>\n",
       "      <th>date</th>\n",
       "      <th>temperature</th>\n",
       "      <th>dewPoint</th>\n",
       "      <th>humidity</th>\n",
       "    </tr>\n",
       "  </thead>\n",
       "  <tbody>\n",
       "    <tr>\n",
       "      <th>0</th>\n",
       "      <td>2015-09-01 00:00:00</td>\n",
       "      <td>16.39</td>\n",
       "      <td>12.09</td>\n",
       "      <td>0.76</td>\n",
       "    </tr>\n",
       "    <tr>\n",
       "      <th>1</th>\n",
       "      <td>2015-09-01 01:00:00</td>\n",
       "      <td>16.26</td>\n",
       "      <td>10.99</td>\n",
       "      <td>0.71</td>\n",
       "    </tr>\n",
       "    <tr>\n",
       "      <th>2</th>\n",
       "      <td>2015-09-01 02:00:00</td>\n",
       "      <td>15.26</td>\n",
       "      <td>10.99</td>\n",
       "      <td>0.76</td>\n",
       "    </tr>\n",
       "    <tr>\n",
       "      <th>3</th>\n",
       "      <td>2015-09-01 03:00:00</td>\n",
       "      <td>15.26</td>\n",
       "      <td>10.99</td>\n",
       "      <td>0.76</td>\n",
       "    </tr>\n",
       "    <tr>\n",
       "      <th>4</th>\n",
       "      <td>2015-09-01 04:00:00</td>\n",
       "      <td>14.26</td>\n",
       "      <td>10.99</td>\n",
       "      <td>0.81</td>\n",
       "    </tr>\n",
       "  </tbody>\n",
       "</table>\n",
       "</div>"
      ],
      "text/plain": [
       "                  date  temperature  dewPoint  humidity\n",
       "0  2015-09-01 00:00:00        16.39     12.09      0.76\n",
       "1  2015-09-01 01:00:00        16.26     10.99      0.71\n",
       "2  2015-09-01 02:00:00        15.26     10.99      0.76\n",
       "3  2015-09-01 03:00:00        15.26     10.99      0.76\n",
       "4  2015-09-01 04:00:00        14.26     10.99      0.81"
      ]
     },
     "execution_count": 29,
     "metadata": {
      "tags": []
     },
     "output_type": "execute_result"
    }
   ],
   "source": [
    "weather_features = weather[['date', 'temperature', 'dewPoint', 'humidity']]\n",
    "weather_features.head()"
   ]
  },
  {
   "cell_type": "code",
   "execution_count": null,
   "metadata": {
    "id": "LSxiU0b-PA00"
   },
   "outputs": [],
   "source": [
    "df = pd.concat([train,test])"
   ]
  },
  {
   "cell_type": "code",
   "execution_count": null,
   "metadata": {
    "id": "G1CF5LjbuWPj"
   },
   "outputs": [],
   "source": [
    "df = pd.merge(df, weather_features, on= 'date', how='left').set_index('date')"
   ]
  },
  {
   "cell_type": "code",
   "execution_count": null,
   "metadata": {
    "id": "5fz7hxHV7QfN"
   },
   "outputs": [],
   "source": [
    "df.index = pd.to_datetime(df.index)"
   ]
  },
  {
   "cell_type": "markdown",
   "metadata": {
    "id": "Fc00feZpv3-l"
   },
   "source": [
    "#### Creating previous feature values (Lag Features)"
   ]
  },
  {
   "cell_type": "code",
   "execution_count": null,
   "metadata": {
    "id": "TAYqtjmvvR3x"
   },
   "outputs": [],
   "source": [
    "def create_lag(data):\n",
    "  data['aqi_1'] = data.aqi.shift(periods=1)\n",
    "  data['temperature_1'] = data.temperature.shift(periods=1)\n",
    "  data['dewPoint_1'] = data.dewPoint.shift(periods=1)\n",
    "  data['humidity_1'] = data.humidity.shift(periods=1)\n",
    "  data['aqi_2'] = data.aqi.shift(periods=2)\n",
    "  data['temperature_2'] = data.temperature.shift(periods=2)\n",
    "  data['dewPoint_2'] = data.dewPoint.shift(periods=2)\n",
    "  data['humidity_2'] = data.humidity.shift(periods=2)\n",
    "  data['aqi_3'] = data.aqi.shift(periods=3)\n",
    "  data['temperature_3'] = data.temperature.shift(periods=3)\n",
    "  data['dewPoint_3'] = data.dewPoint.shift(periods=3)\n",
    "  data['humidity_3'] = data.humidity.shift(periods=3)\n",
    "  return data"
   ]
  },
  {
   "cell_type": "code",
   "execution_count": null,
   "metadata": {
    "id": "CKCMJ4MtxoGp"
   },
   "outputs": [],
   "source": [
    "df = create_lag(df)\n",
    "df = df.dropna().reset_index()"
   ]
  },
  {
   "cell_type": "code",
   "execution_count": null,
   "metadata": {
    "id": "IytpUJZwxyjV"
   },
   "outputs": [],
   "source": []
  },
  {
   "cell_type": "markdown",
   "metadata": {
    "id": "mdcrFKORgDs5"
   },
   "source": [
    "### Building DataLoader"
   ]
  },
  {
   "cell_type": "code",
   "execution_count": null,
   "metadata": {
    "id": "52SuP7HEgF-K"
   },
   "outputs": [],
   "source": [
    "cont, cat = cont_cat_split(df, 1, dep_var='aqi')\n",
    "procs = [Categorify, FillMissing, Normalize]"
   ]
  },
  {
   "cell_type": "code",
   "execution_count": null,
   "metadata": {
    "id": "Me4kyy6QgLnX"
   },
   "outputs": [],
   "source": [
    "valid_idx = df.sample(frac=0.1, random_state=42).index.values"
   ]
  },
  {
   "cell_type": "code",
   "execution_count": null,
   "metadata": {
    "id": "O8GXM6NWgO_n"
   },
   "outputs": [],
   "source": [
    "dls = TabularDataLoaders.from_df(df, \n",
    "                                 path, \n",
    "                                 procs=procs, \n",
    "                                 cat_names=cat, \n",
    "                                 cont_names=cont, \n",
    "                                 y_names=\"aqi\", \n",
    "                                 valid_idx=valid_idx,\n",
    "                                 bs = 64)"
   ]
  },
  {
   "cell_type": "code",
   "execution_count": null,
   "metadata": {
    "colab": {
     "base_uri": "https://localhost:8080/",
     "height": 736
    },
    "id": "mHW4HKVcgQ4P",
    "outputId": "1b68affe-3c46-4a27-fa97-20192d937d68"
   },
   "outputs": [
    {
     "data": {
      "text/html": [
       "<table border=\"1\" class=\"dataframe\">\n",
       "  <thead>\n",
       "    <tr style=\"text-align: right;\">\n",
       "      <th></th>\n",
       "      <th>date</th>\n",
       "      <th>type</th>\n",
       "      <th>source</th>\n",
       "      <th>station</th>\n",
       "      <th>ID</th>\n",
       "      <th>latitude</th>\n",
       "      <th>longitude</th>\n",
       "      <th>temperature</th>\n",
       "      <th>dewPoint</th>\n",
       "      <th>humidity</th>\n",
       "      <th>aqi_1</th>\n",
       "      <th>temperature_1</th>\n",
       "      <th>dewPoint_1</th>\n",
       "      <th>humidity_1</th>\n",
       "      <th>aqi_2</th>\n",
       "      <th>temperature_2</th>\n",
       "      <th>dewPoint_2</th>\n",
       "      <th>humidity_2</th>\n",
       "      <th>aqi_3</th>\n",
       "      <th>temperature_3</th>\n",
       "      <th>dewPoint_3</th>\n",
       "      <th>humidity_3</th>\n",
       "      <th>aqi</th>\n",
       "    </tr>\n",
       "  </thead>\n",
       "  <tbody>\n",
       "    <tr>\n",
       "      <th>0</th>\n",
       "      <td>2016-08-01 12:00:00</td>\n",
       "      <td>PM10</td>\n",
       "      <td>Agaar.mn</td>\n",
       "      <td>Амгалан</td>\n",
       "      <td>103473.002499</td>\n",
       "      <td>47.913429</td>\n",
       "      <td>106.997910</td>\n",
       "      <td>29.480000</td>\n",
       "      <td>10.859999</td>\n",
       "      <td>0.32</td>\n",
       "      <td>149.000001</td>\n",
       "      <td>29.479999</td>\n",
       "      <td>10.859999</td>\n",
       "      <td>0.32</td>\n",
       "      <td>146.999999</td>\n",
       "      <td>29.480000</td>\n",
       "      <td>10.859999</td>\n",
       "      <td>0.32</td>\n",
       "      <td>43.000002</td>\n",
       "      <td>29.479999</td>\n",
       "      <td>10.859999</td>\n",
       "      <td>0.32</td>\n",
       "      <td>148.0</td>\n",
       "    </tr>\n",
       "    <tr>\n",
       "      <th>1</th>\n",
       "      <td>2018-10-08 05:00:00</td>\n",
       "      <td>PM10</td>\n",
       "      <td>Agaar.mn</td>\n",
       "      <td>Амгалан</td>\n",
       "      <td>322652.996253</td>\n",
       "      <td>47.913429</td>\n",
       "      <td>106.997910</td>\n",
       "      <td>-2.730000</td>\n",
       "      <td>-7.000000</td>\n",
       "      <td>0.72</td>\n",
       "      <td>30.000001</td>\n",
       "      <td>-2.730000</td>\n",
       "      <td>-7.000000</td>\n",
       "      <td>0.72</td>\n",
       "      <td>29.000000</td>\n",
       "      <td>-2.730000</td>\n",
       "      <td>-7.000000</td>\n",
       "      <td>0.72</td>\n",
       "      <td>34.000001</td>\n",
       "      <td>-2.730000</td>\n",
       "      <td>-7.000000</td>\n",
       "      <td>0.72</td>\n",
       "      <td>31.0</td>\n",
       "    </tr>\n",
       "    <tr>\n",
       "      <th>2</th>\n",
       "      <td>2017-02-16 15:00:00</td>\n",
       "      <td>PM10</td>\n",
       "      <td>Agaar.mn</td>\n",
       "      <td>МҮОНРТ</td>\n",
       "      <td>177738.999315</td>\n",
       "      <td>47.929733</td>\n",
       "      <td>106.888626</td>\n",
       "      <td>-14.720001</td>\n",
       "      <td>-19.010001</td>\n",
       "      <td>0.70</td>\n",
       "      <td>104.000000</td>\n",
       "      <td>-14.720000</td>\n",
       "      <td>-19.010000</td>\n",
       "      <td>0.70</td>\n",
       "      <td>105.000000</td>\n",
       "      <td>-14.720000</td>\n",
       "      <td>-19.010000</td>\n",
       "      <td>0.70</td>\n",
       "      <td>105.000000</td>\n",
       "      <td>-14.720000</td>\n",
       "      <td>-19.010000</td>\n",
       "      <td>0.70</td>\n",
       "      <td>100.0</td>\n",
       "    </tr>\n",
       "    <tr>\n",
       "      <th>3</th>\n",
       "      <td>2017-06-25 06:00:00</td>\n",
       "      <td>PM10</td>\n",
       "      <td>Agaar.mn</td>\n",
       "      <td>100 айл</td>\n",
       "      <td>226035.997492</td>\n",
       "      <td>47.932907</td>\n",
       "      <td>106.921387</td>\n",
       "      <td>12.260000</td>\n",
       "      <td>8.000001</td>\n",
       "      <td>0.75</td>\n",
       "      <td>62.999997</td>\n",
       "      <td>12.260000</td>\n",
       "      <td>8.000000</td>\n",
       "      <td>0.75</td>\n",
       "      <td>36.999998</td>\n",
       "      <td>12.260000</td>\n",
       "      <td>7.999999</td>\n",
       "      <td>0.75</td>\n",
       "      <td>60.999998</td>\n",
       "      <td>12.260000</td>\n",
       "      <td>8.000000</td>\n",
       "      <td>0.75</td>\n",
       "      <td>60.0</td>\n",
       "    </tr>\n",
       "    <tr>\n",
       "      <th>4</th>\n",
       "      <td>2016-08-28 09:00:00</td>\n",
       "      <td>PM10</td>\n",
       "      <td>Agaar.mn</td>\n",
       "      <td>Баянхошуу</td>\n",
       "      <td>111774.000755</td>\n",
       "      <td>47.957561</td>\n",
       "      <td>106.822754</td>\n",
       "      <td>10.240000</td>\n",
       "      <td>3.050000</td>\n",
       "      <td>0.61</td>\n",
       "      <td>25.999998</td>\n",
       "      <td>10.240000</td>\n",
       "      <td>3.050000</td>\n",
       "      <td>0.61</td>\n",
       "      <td>81.999999</td>\n",
       "      <td>10.240000</td>\n",
       "      <td>3.050000</td>\n",
       "      <td>0.61</td>\n",
       "      <td>26.999998</td>\n",
       "      <td>10.239999</td>\n",
       "      <td>3.050000</td>\n",
       "      <td>0.61</td>\n",
       "      <td>80.0</td>\n",
       "    </tr>\n",
       "    <tr>\n",
       "      <th>5</th>\n",
       "      <td>2019-11-06 23:00:00</td>\n",
       "      <td>PM2.5</td>\n",
       "      <td>Agaar.mn</td>\n",
       "      <td>Баянхошуу</td>\n",
       "      <td>355753.996299</td>\n",
       "      <td>47.957561</td>\n",
       "      <td>106.822754</td>\n",
       "      <td>-6.010000</td>\n",
       "      <td>-11.880000</td>\n",
       "      <td>0.63</td>\n",
       "      <td>211.999996</td>\n",
       "      <td>-6.010000</td>\n",
       "      <td>-11.880000</td>\n",
       "      <td>0.63</td>\n",
       "      <td>114.000000</td>\n",
       "      <td>-6.010000</td>\n",
       "      <td>-11.880000</td>\n",
       "      <td>0.63</td>\n",
       "      <td>240.999999</td>\n",
       "      <td>-6.010000</td>\n",
       "      <td>-11.880000</td>\n",
       "      <td>0.63</td>\n",
       "      <td>55.0</td>\n",
       "    </tr>\n",
       "    <tr>\n",
       "      <th>6</th>\n",
       "      <td>2018-08-09 19:00:00</td>\n",
       "      <td>PM2.5</td>\n",
       "      <td>Stateair.mn</td>\n",
       "      <td>АНУ-ын Элчин сайдын яам</td>\n",
       "      <td>309729.002769</td>\n",
       "      <td>47.928387</td>\n",
       "      <td>106.929466</td>\n",
       "      <td>23.249999</td>\n",
       "      <td>10.990000</td>\n",
       "      <td>0.46</td>\n",
       "      <td>37.000002</td>\n",
       "      <td>23.250000</td>\n",
       "      <td>10.990000</td>\n",
       "      <td>0.46</td>\n",
       "      <td>41.000002</td>\n",
       "      <td>23.250001</td>\n",
       "      <td>10.989999</td>\n",
       "      <td>0.46</td>\n",
       "      <td>40.999999</td>\n",
       "      <td>23.250000</td>\n",
       "      <td>10.990000</td>\n",
       "      <td>0.46</td>\n",
       "      <td>7.0</td>\n",
       "    </tr>\n",
       "    <tr>\n",
       "      <th>7</th>\n",
       "      <td>2016-12-13 02:00:00</td>\n",
       "      <td>PM2.5</td>\n",
       "      <td>Agaar.mn</td>\n",
       "      <td>Бөхийн өргөө</td>\n",
       "      <td>150839.000128</td>\n",
       "      <td>47.917606</td>\n",
       "      <td>106.937363</td>\n",
       "      <td>-29.230001</td>\n",
       "      <td>-32.439998</td>\n",
       "      <td>0.74</td>\n",
       "      <td>421.000007</td>\n",
       "      <td>-29.230000</td>\n",
       "      <td>-32.439998</td>\n",
       "      <td>0.74</td>\n",
       "      <td>232.999998</td>\n",
       "      <td>-29.229999</td>\n",
       "      <td>-32.439998</td>\n",
       "      <td>0.74</td>\n",
       "      <td>217.999997</td>\n",
       "      <td>-29.230000</td>\n",
       "      <td>-32.439999</td>\n",
       "      <td>0.74</td>\n",
       "      <td>432.0</td>\n",
       "    </tr>\n",
       "    <tr>\n",
       "      <th>8</th>\n",
       "      <td>2018-10-18 08:00:00</td>\n",
       "      <td>PM2.5</td>\n",
       "      <td>Agaar.mn</td>\n",
       "      <td>МҮОНРТ</td>\n",
       "      <td>324619.999619</td>\n",
       "      <td>47.929733</td>\n",
       "      <td>106.888626</td>\n",
       "      <td>-7.730000</td>\n",
       "      <td>-10.000000</td>\n",
       "      <td>0.84</td>\n",
       "      <td>99.000000</td>\n",
       "      <td>-7.730000</td>\n",
       "      <td>-10.000000</td>\n",
       "      <td>0.84</td>\n",
       "      <td>107.000000</td>\n",
       "      <td>-7.730000</td>\n",
       "      <td>-10.000000</td>\n",
       "      <td>0.84</td>\n",
       "      <td>104.000000</td>\n",
       "      <td>-7.730000</td>\n",
       "      <td>-10.000000</td>\n",
       "      <td>0.84</td>\n",
       "      <td>106.0</td>\n",
       "    </tr>\n",
       "    <tr>\n",
       "      <th>9</th>\n",
       "      <td>2017-02-05 23:00:00</td>\n",
       "      <td>PM10</td>\n",
       "      <td>Agaar.mn</td>\n",
       "      <td>МҮОНРТ</td>\n",
       "      <td>173400.999965</td>\n",
       "      <td>47.929733</td>\n",
       "      <td>106.888626</td>\n",
       "      <td>-11.130000</td>\n",
       "      <td>-16.030001</td>\n",
       "      <td>0.67</td>\n",
       "      <td>67.000000</td>\n",
       "      <td>-11.130000</td>\n",
       "      <td>-16.030001</td>\n",
       "      <td>0.67</td>\n",
       "      <td>69.000001</td>\n",
       "      <td>-11.130001</td>\n",
       "      <td>-16.030001</td>\n",
       "      <td>0.67</td>\n",
       "      <td>67.000000</td>\n",
       "      <td>-11.130000</td>\n",
       "      <td>-16.030001</td>\n",
       "      <td>0.67</td>\n",
       "      <td>69.0</td>\n",
       "    </tr>\n",
       "  </tbody>\n",
       "</table>"
      ],
      "text/plain": [
       "<IPython.core.display.HTML object>"
      ]
     },
     "metadata": {
      "tags": []
     },
     "output_type": "display_data"
    }
   ],
   "source": [
    "dls.show_batch()"
   ]
  },
  {
   "cell_type": "code",
   "execution_count": null,
   "metadata": {
    "id": "t3_qWw0riPoC"
   },
   "outputs": [],
   "source": []
  },
  {
   "cell_type": "code",
   "execution_count": null,
   "metadata": {
    "id": "oVH3zPRrgeCo"
   },
   "outputs": [],
   "source": [
    "learn = tabular_learner(dls, metrics = rmse, layers=[500,250])"
   ]
  },
  {
   "cell_type": "code",
   "execution_count": null,
   "metadata": {
    "colab": {
     "base_uri": "https://localhost:8080/",
     "height": 283
    },
    "id": "qWb-fIwRgqH3",
    "outputId": "66a244a6-58e2-43a2-c610-e1d34d1c533d"
   },
   "outputs": [
    {
     "data": {
      "text/html": [],
      "text/plain": [
       "<IPython.core.display.HTML object>"
      ]
     },
     "metadata": {
      "tags": []
     },
     "output_type": "display_data"
    },
    {
     "data": {
      "image/png": "[encoded data removed]",
      "text/plain": [
       "<Figure size 432x288 with 1 Axes>"
      ]
     },
     "metadata": {
      "needs_background": "light",
      "tags": []
     },
     "output_type": "display_data"
    }
   ],
   "source": [
    "lr_min, lr_steep = learn.lr_find()"
   ]
  },
  {
   "cell_type": "code",
   "execution_count": null,
   "metadata": {
    "colab": {
     "base_uri": "https://localhost:8080/",
     "height": 204
    },
    "id": "zQg6_h-Igt2W",
    "outputId": "8e9bd8a6-4624-4ace-c17b-6bb7b9a0e3f1"
   },
   "outputs": [
    {
     "data": {
      "text/html": [
       "<table border=\"1\" class=\"dataframe\">\n",
       "  <thead>\n",
       "    <tr style=\"text-align: left;\">\n",
       "      <th>epoch</th>\n",
       "      <th>train_loss</th>\n",
       "      <th>valid_loss</th>\n",
       "      <th>_rmse</th>\n",
       "      <th>time</th>\n",
       "    </tr>\n",
       "  </thead>\n",
       "  <tbody>\n",
       "    <tr>\n",
       "      <td>0</td>\n",
       "      <td>1122.777344</td>\n",
       "      <td>976.525818</td>\n",
       "      <td>31.249413</td>\n",
       "      <td>01:20</td>\n",
       "    </tr>\n",
       "    <tr>\n",
       "      <td>1</td>\n",
       "      <td>708.930420</td>\n",
       "      <td>668.277832</td>\n",
       "      <td>25.851072</td>\n",
       "      <td>01:19</td>\n",
       "    </tr>\n",
       "    <tr>\n",
       "      <td>2</td>\n",
       "      <td>582.431396</td>\n",
       "      <td>491.332672</td>\n",
       "      <td>22.166025</td>\n",
       "      <td>01:19</td>\n",
       "    </tr>\n",
       "    <tr>\n",
       "      <td>3</td>\n",
       "      <td>332.029541</td>\n",
       "      <td>399.161530</td>\n",
       "      <td>19.979029</td>\n",
       "      <td>01:20</td>\n",
       "    </tr>\n",
       "    <tr>\n",
       "      <td>4</td>\n",
       "      <td>218.350342</td>\n",
       "      <td>374.022919</td>\n",
       "      <td>19.339668</td>\n",
       "      <td>01:19</td>\n",
       "    </tr>\n",
       "  </tbody>\n",
       "</table>"
      ],
      "text/plain": [
       "<IPython.core.display.HTML object>"
      ]
     },
     "metadata": {
      "tags": []
     },
     "output_type": "display_data"
    }
   ],
   "source": [
    "learn.fit_one_cycle(5, lr_min)"
   ]
  },
  {
   "cell_type": "code",
   "execution_count": null,
   "metadata": {
    "id": "YNDxOg5qik4w"
   },
   "outputs": [],
   "source": []
  }
 ],
 "metadata": {
  "accelerator": "GPU",
  "colab": {
   "collapsed_sections": [],
   "name": "Air_pollution_DL",
   "provenance": []
  },
  "kernelspec": {
   "display_name": "Python 3",
   "language": "python",
   "name": "python3"
  },
  "language_info": {
   "codemirror_mode": {
    "name": "ipython",
    "version": 3
   },
   "file_extension": ".py",
   "mimetype": "text/x-python",
   "name": "python",
   "nbconvert_exporter": "python",
   "pygments_lexer": "ipython3",
   "version": "3.8.8"
  }
 },
 "nbformat": 4,
 "nbformat_minor": 4
}
